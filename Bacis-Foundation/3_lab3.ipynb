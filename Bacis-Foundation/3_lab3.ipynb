{
 "cells": [
  {
   "cell_type": "markdown",
   "metadata": {},
   "source": [
    "\n",
    "\n",
    "Today we're going to build something with immediate value!\n",
    "\n",
    "In the folder `me` I've put a single file `linkedin.pdf` - it's a PDF download of my LinkedIn profile.\n",
    "\n",
    "Please replace it with yours!\n",
    "\n",
    "I've also made a file called `summary.txt`\n",
    "\n",
    "We're not going to use Tools just yet - we're going to add the tool tomorrow."
   ]
  },
  {
   "cell_type": "markdown",
   "metadata": {},
   "source": [
    "<table style=\"margin: 0; text-align: left; width:100%\">\n",
    "    </td>\n",
    "        <td>\n",
    "            <h2 style=\"color:#00bfff;\">Looking up packages</h2>\n",
    "            <span style=\"color:#00bfff;\">In this lab, we're going to use the wonderful Gradio package for building quick UIs, \n",
    "            and we're also going to use the popular PyPDF2 PDF reader. You can get guides to these packages by asking \n",
    "            ChatGPT or Claude, and you find all open-source packages on the repository <a href=\"https://pypi.org\">https://pypi.org</a>.\n",
    "            </span>\n",
    "        </td>\n",
    "    </tr>\n",
    "</table>"
   ]
  },
  {
   "cell_type": "code",
   "execution_count": 4,
   "metadata": {},
   "outputs": [],
   "source": [
    "# If you don't know what any of these packages do - you can always ask ChatGPT for a guide!\n",
    "\n",
    "from dotenv import load_dotenv\n",
    "from openai import OpenAI\n",
    "from pypdf import PdfReader\n",
    "import gradio as gr\n",
    "import os"
   ]
  },
  {
   "cell_type": "code",
   "execution_count": 3,
   "metadata": {},
   "outputs": [],
   "source": [
    "load_dotenv(override=True)\n",
    "openai = OpenAI()"
   ]
  },
  {
   "cell_type": "code",
   "execution_count": 13,
   "metadata": {},
   "outputs": [
    {
     "name": "stdout",
     "output_type": "stream",
     "text": [
      "Extracted text from linkedin.pdf\n",
      "Extracted text from linkedinResume.pdf\n"
     ]
    }
   ],
   "source": [
    "folder_path = \"PD/\"\n",
    "\n",
    "for filename in os.listdir(folder_path):\n",
    "    if filename.endswith(\".pdf\"):\n",
    "        filepath = os.path.join(folder_path, filename)\n",
    "        try:\n",
    "            reader = PdfReader(filepath)\n",
    "            linkedin = \"\"\n",
    "            for page in reader.pages:\n",
    "                text = page.extract_text()\n",
    "                if text: \n",
    "                    linkedin += text\n",
    "\n",
    "            print(f\"Extracted text from {filename}\")\n",
    "        except Exception as e:\n",
    "            print(f\"Error extracting text from {filename}: {e}\")\n",
    "\n",
    "\n",
    "\n",
    "\n",
    "# reader = PdfReader(folder_path)\n",
    "# linkedin = \"\"\n",
    "# for page in reader.pages:\n",
    "#     text = page.extract_text()\n",
    "#     if text:\n",
    "#         linkedin += text"
   ]
  },
  {
   "cell_type": "code",
   "execution_count": 15,
   "metadata": {},
   "outputs": [
    {
     "name": "stdout",
     "output_type": "stream",
     "text": [
      "   \n",
      " \n",
      "AI-Driven Network Solutions Leader | Generative AI | Agentic AI | LLMOps | 5G Core & Cloud Architect | DevOps Strategist \n",
      "OBJECTIVES \n",
      "Technology leader with over 15 years of experience across Telco, Generative AI, Agentic AI, and LLMOps ,Cloud, and AI domains. \n",
      "Proven expertise in 5G Core Network architecture, Cloud-native DevOps, AI/ML pipeline deployment, and operational excellence. \n",
      "Currently leading initiatives at the intersection of Generative AI, Agentic AI, and LLMOps to build intelligent, self-improving, and \n",
      "resilient telecom infrastructures. Strong focus on transforming legacy systems with intelligent automation, language model deployment, \n",
      "and agent-driven orchestration frameworks. \n",
      "TeCHNICAL SKILls \n",
      "  \n",
      "Core Competencies : AI enthusiast with strong foundational knowledge in GenAI, RAG techniques, and MLOps workflows. \n",
      "Actively building personal projects leveraging LangChain, vector databases, and LLM APIs. Seeking opportunities to apply skills in \n",
      "real-world GenAI applications. \n",
      " Generative AI & Agentic AI: LangChain, Prompt Engineering, OpenAI, HuggingFace, Retrieval-Augmented Generation \n",
      "(RAG), Autonomous Agents (CrewAI, LangGraph,) \n",
      " LLMOps & AI Deployment: MLflow, Weights & Biases, Ray, FastAPI, Docker, Kubernetes (EKS), Helm, CI/CD, MLOps \n",
      "pipelines \n",
      " Telco Networks & Cloud Platforms: 3G/4G/5G | Core (UPF, SMF, AMF, etc.) | CNF | RAN | ORAN | vRAN | AWS \n",
      " Automation & Scripting: Python (NLP, ML, FastAPI) | YAML | Terraform | GitHub Actions | Jenkins \n",
      " AI Frameworks: PyTorch, TensorFlow, Scikit-learn, NLTK, Transformers, spaCy, LangChain \n",
      " Data Analytics & Visualization: Power BI | Tableau | Pandas | Matplotlib | Actix | TEMS \n",
      " \n",
      "Tech & Tools \n",
      "  \n",
      " 3G |4G| LTE | VoLTE | RAN |ORAN |VRAN \n",
      " \n",
      " Cloud Service Provider  : AWS, Amazon Bedrock Vertex AI \n",
      " \n",
      " Container Tools  : Docker  Kubernetes \n",
      " \n",
      " Scripting : Python , YAML \n",
      " \n",
      " Automation Tools : Terraform \n",
      " \n",
      " Data Visualization and Reporting : Tableau .  \n",
      " \n",
      " Model Versioning : DVC , MLflow , Weights & Biases \n",
      " \n",
      " Telco Analysis Tools \n",
      "TEMS Investigation | TEMS Visualization |TEMS Discovery | ACTIX Analyzer | Actix classic GNG Full Spotlight | \n",
      "Business Object / \n",
      " \n",
      "EXPERIENCE \n",
      " \n",
      "Quadgen Wireless  Solution PVt LTD \n",
      "Role: Technical Manager -5G Core \n",
      "Tenure:  JUN 2024 – PRESENT  \n",
      " Spearheading the integration of Generative AI to dynamically configure and troubleshoot the 5G network using LLM-\n",
      "powered agents. \n",
      " DVC Integration: Leverage DVC to manage large-scale datasets (historical network logs, configuration data) used for \n",
      "training generative models, ensuring versioning of data for reproducibility. \n",
      " MLflow Integration: Implement MLflow for tracking training experiments, managing models, and automating model \n",
      "deployment for network configuration agents. \n",
      " Leading the development of Agentic AI systems for real-time network monitoring and auto-resolution using LangChain \n",
      "with Retrieval-Augmented Generation (RAG) for intelligent decision-making. \n",
      " DVC for Historical Data Versioning: Use DVC to version ticket data and network logs, which are continuously used \n",
      "for fine-tuning the LLMs. \n",
      " MLflow for Model Monitoring: Utilize MLflow to track the model's performance (accuracy, response times, etc.) and \n",
      "versioning of fine-tuned models. \n",
      " \n",
      " \n",
      "Mastec Quadgen Wireless  LLP \n",
      "Role: DevOps Engineer (Lead) \n",
      "Tenure:  JAN 2022 – JUN 2024  \n",
      " \n",
      " Project prerequisite planning, designing, and implementing 5G Network infrastructure and deployment.  \n",
      " Coordinate with the teams and stakeholders, manage resources, and address any issues that may  arise during \n",
      "deployment and R&D process.  \n",
      " Deployed E2E CICD pipelines for 5G CNFs and AI services across multi-node EKS clusters. \n",
      " Integrated ML models for anomaly detection into telecom dashboards. \n",
      " Automated CNF deployment & infrastructure setup using Terraform, Helm, and Kubernetes. \n",
      " Integrated telemetry systems with Prometheus and Grafana for real-time network and AI model       \n",
      " Performance. \n",
      " Deployment of 5G Core Network function on On-primes VM and Cloud. 5G Node Functions e.g.  \n",
      " AUSF, UDM, PCF, SMF, AMF, UPF, NRF and UDR) \n",
      " Wireshark trace and RLS di-sector configuration with core and RAN to Achieve and decode L3 Message \n",
      " AI-Powered Network Assistant: Built with OpenAI APIs, LangChain, and internal network logs for proactive \n",
      "troubleshooting, root-cause analysis, and alert summarization. \n",
      " Agentic AI for Telco Ops: Implemented task-driven agents for real-time decision-making, command execution on \n",
      "network elements, and ticket triage via vector embeddings. \n",
      " LLMOps Pipelines: Managed lifecycle of fine-tuned transformer models for call drop prediction, using MLflow, \n",
      "Rayand FastAPI; deployed on EKS. \n",
      " 5G Core Intelligent Testing: Integrated agent workflows for test case generation, trace analysis (Wireshark + LLM), \n",
      "and automatic documentation using GenAI. \n",
      " Track the performance of AI models integrated into the 5G CNFs (e.g., anomaly detection models) via MLflow, \n",
      "ensuring consistent model performance across deployments. \n",
      " Use DVC to manage the versions of configuration files and deployment artifacts related to 5G Core Network Functions \n",
      "(CNFs). \n",
      " Automate model deployment as part of the Kubernetes pipelines with MLflow to handle model versioning and \n",
      "deployment \n",
      " \n",
      "General Technical Services  \n",
      "Role: Data Analyst \n",
      "Tenure:  JUN 2018 - JULY 2020 \n",
      "Responsibilities:  Worked in Multifunctional environment to implement Analytics best practices with respect to experimental Data Analysis, \n",
      "Data Science, Data Reporting and Data Visualization \n",
      " Created numerous simple to complex SQL Queries involving joins, correlated sub queries for \n",
      "diverse business requirement. \n",
      " Prepared User Manual and Presentations  for the Costumer and Users  \n",
      " Performed Supervised and Unsupervisie Machine Learning Techniques \n",
      " Created Tableau scorecards, dashboards using stack bars, bar graphs, scattered plots, Gantt charts using show me Functionality \n",
      " Journal Recommendation system (built on NLP (natural language processing)   \n",
      " Harmonized Code Recommendation system (built on NLP (natural language processing) \n",
      " Build a Catboat with Amazon lex for Student support  (built on NLP (natural language processing) \n",
      " \n",
      " \n",
      " \n",
      "Ericsson   \n",
      " \n",
      "Role: Senior Network Analyst \n",
      "Tenure: MAY 2016 - MAY 2018 \n",
      "Responsibilities: \n",
      " \n",
      " Data Reporting and Data Visualization \n",
      " Created Tableau scorecards, dashboards using stack bars, bar graphs, scattered plots, geographical maps, Gantt charts  \n",
      " functionality \n",
      " Designed customer Report dashboard using tableau to visualize the analysis \n",
      " Involved in creating Dashboards, reports as needed using Tableau Desktop and Tableau Server. \n",
      " Created customize share interactive web dashboards with simple drag drop. \n",
      " Developed Graph and Reports and presentation for project report.    \n",
      " Network Events Classification modeling using machine learning  \n",
      " Prediction of Call Drops in 3G/GSM Network  \n",
      " Individual site/cell parameter tuning recommendation model for call drop. \n",
      " Cluster and county parameter tuning recommendation model for call drop. \n",
      " Used UMTS, LTE use cases for ML model building. \n",
      " Involved in requirement gathering and architecture design. \n",
      " Building data cleansing pipeline to train a model.  \n",
      " Developing statistical models for various predictive methods such as classification, clustering and regression. \n",
      " Involved in parameter tuning process for optimal model hyper-parameters.  \n",
      " Generate actionable insights from data and creating presentations and dashboards to make recommendations for improvement \n",
      " Scripting using python language to develop the model for Data Pre - Processing and Data Transformation to analyses Network \n",
      "Performance \n",
      " and Visualization \n",
      " Logging and monitoring model performance. \n",
      " \n",
      " \n",
      " \n",
      "Ericsson Global \n",
      "Role:  Senior Network Engineer \n",
      "Tenure:  SEPT 2014 - MAY 2016 \n",
      "Responsibilities: \n",
      " \n",
      " Analyzed existing network and application architectures, presenting findings on possible enhancements and improvements to \n",
      "senior decision-makers. \n",
      " Established and monitored key performance metrics to verify consistent compliance with important networking standards. \n",
      " Capacity management traffic dimension based on existing used cases analysis. \n",
      " Monitored network capacity and performance, as well as diagnosed and resolved complex network problems. \n",
      " Performed Tuning and optimization 1st, 2nd and 3rd carrier LTE systems for EE & 3UK,  \n",
      " Analysis existing features and parameter and performed logical changes to improve coverage ,mobility ,accessibility , \n",
      "retainability.   Doing Site Shake Down, Go No Go Lite Data & Voice Analysis and Report, Circuit Switch Fallback Analysis, IFHO Analysis,  \n",
      " UE traces, Site parameters audits, request and verify physical and logical changes to improve coverage, mobility, accessibility, \n",
      "retainability and time on LTE \n",
      " \n",
      " \n",
      "QuadGen Wireless solution \n",
      "Role: Senior RF Engineer \n",
      "Tenure:  FEB 2013 - SEPT 2014 \n",
      "Responsibilities: \n",
      " \n",
      " Capacity & coverage data analysis and Visualization for clusters and county. \n",
      " Responsible for Data  Pre- Processing and Data Transformation to analyse Network  Performance. \n",
      " UMTS & LTE Drive Test Analysis, IRAT & IFHO Analysis, Coverage Analysis & recommendations.  \n",
      " Event analysis and improve Accessibility, retainability & Mobility.  \n",
      " Pilot pollution analysis, Improving RSCP/RSRP & EcNo/RSRQ by recommendations of parameters.  \n",
      " Cluster analysis for LTE & UMTS and KPI Report generation. \n",
      " Single Site and cluster KPI Analysis after Launch, KPI Report generation using the Quantum, WIPS Analysis for load shearing \n",
      "and \n",
      " PRACH performance using the SAP- BO. \n",
      " ACTIX Spotlight/Analyzer/ GNG Cluster KPI reports to troubleshoot the issues for sites. \n",
      " Identifying the minma in the Scree plot to analyze the clustering \n",
      " Performing ANova test for the model. \n",
      " Training the new hires with the current scope of work & process. \n",
      " \n",
      "Snachar  solution /GTL Ltd.  \n",
      "Role: RF Engineer \n",
      "Tenure: SEPT 2009 - FEB 2013 \n",
      "Responsibilities: \n",
      " \n",
      " Capacity & coverage data Visualization using Map-info, Actix Gio. \n",
      " Cross functionality work with different teams. \n",
      " Expertise in BO reports to analyze Hourly/Daily KPI’s  \n",
      " Instant KPI monitoring using AMOS commands.  \n",
      " Performing Special Event Monitoring. \n",
      " Weekly meetings to discuss the project milestones. \n",
      " Suggest solutions, resolve queries and provide recommendations to improve the quality of network. \n",
      " Optimizing UTRAN parameters, Timers and Counters to improve Network performance. \n",
      " Analysis of poor throughput of HSDPA/HSUPA and recommend necessary changes to improve the same. \n",
      " optimization, Inter-RAT parameters, checking channel elements, and power congestion, and HSDPA Throughput \n",
      " Analysis of drive test data (Layer 3 Messages), identify weak coverage/quality areas, call related issues (CS/PS setup time, \n",
      "Pilot pollution,interference Ec/No, missing neighbor , call drops, RAB Drops , RRC Setup Failure Issues , RAB \n",
      "establishment issues, IRAT Handover \n",
      " \n",
      " \n",
      "ACADEMICS \n",
      "Bachelor of Technology (B.E), RGPV, Bhopal,M.P., India: Specialization in Electronics & Communications. \n",
      "MOOC’S \n",
      " LangChain for Developers – LangChain (2024) \n",
      " LLMOps & MLOps – DeepLearning.AI (2024) \n",
      " Machine Learning & Deep Learning – UpX Academy \n",
      " Ericsson Academy – RNO, Python & ML \n",
      " iNeuron, Udemy – NLP, Web Scraping, AI Workflows  \n"
     ]
    }
   ],
   "source": [
    "print(linkedin)"
   ]
  },
  {
   "cell_type": "code",
   "execution_count": 16,
   "metadata": {},
   "outputs": [],
   "source": [
    "with open(\"PD/summary.txt\", \"r\", encoding=\"utf-8\") as f:\n",
    "    summary = f.read()"
   ]
  },
  {
   "cell_type": "code",
   "execution_count": 17,
   "metadata": {},
   "outputs": [],
   "source": [
    "name = \"Pradeep Dhote\""
   ]
  },
  {
   "cell_type": "code",
   "execution_count": 18,
   "metadata": {},
   "outputs": [],
   "source": [
    "system_prompt = f\"You are acting as {name}. You are answering questions on {name}'s website, \\\n",
    "particularly questions related to {name}'s career, background, skills and experience. \\\n",
    "Your responsibility is to represent {name} for interactions on the website as faithfully as possible. \\\n",
    "You are given a summary of {name}'s background and LinkedIn profile which you can use to answer questions. \\\n",
    "Be professional and engaging, as if talking to a potential client or future employer who came across the website. \\\n",
    "If you don't know the answer, say so.\"\n",
    "\n",
    "system_prompt += f\"\\n\\n## Summary:\\n{summary}\\n\\n## LinkedIn Profile:\\n{linkedin}\\n\\n\"\n",
    "system_prompt += f\"With this context, please chat with the user, always staying in character as {name}.\"\n"
   ]
  },
  {
   "cell_type": "code",
   "execution_count": 19,
   "metadata": {},
   "outputs": [
    {
     "data": {
      "text/plain": [
       "\"You are acting as Pradeep Dhote. You are answering questions on Pradeep Dhote's website, particularly questions related to Pradeep Dhote's career, background, skills and experience. Your responsibility is to represent Pradeep Dhote for interactions on the website as faithfully as possible. You are given a summary of Pradeep Dhote's background and LinkedIn profile which you can use to answer questions. Be professional and engaging, as if talking to a potential client or future employer who came across the website. If you don't know the answer, say so.\\n\\n## Summary:\\ni am Pradeep Dhote, having  15 years of cross-functional experience across Telecom, Cloud, Generative AI, Agentic AI, and LLMOps. With a deep foundation in 5G Core Network architecture and cloud-native DevOps strategies, he excels in building intelligent, resilient telecom infrastructures using AI-powered automation and orchestration.\\n\\nCurrently serving as Technical Manager at Quadgen Wireless Solutions, Pradeep leads next-gen initiatives integrating Generative AI and agentic orchestration for real-time network optimization. He specializes in implementing LangChain, Retrieval-Augmented Generation (RAG), MLflow, and DVC to power self-improving AI systems for 5G network operations.\\n\\nHe brings extensive hands-on experience in:\\n\\n3G/4G/5G CNFs: AMF, SMF, UPF, PCF, NRF, UDM, AUSF, UDR\\n\\nGenerative AI & Agentic AI frameworks: LangChain, CrewAI, LangGraph\\n\\nAI/ML deployment: MLflow, Ray, FastAPI, Hugging Face, Docker, Kubernetes (EKS), DVC\\n\\nAutomation: Terraform, Helm, CI/CD, Jenkins, GitHub Actions\\n\\nTelco tools: TEMS, Actix, Wireshark, Tableau, Power BI\\n\\nCloud & Data: AWS, Amazon Bedrock, Vertex AI, Pandas, PyTorch, Scikit-learn\\n\\nKey Achievements:\\n\\n✅ Deployed agentic AI for real-time KPI root cause analysis and auto-resolution in live 5G networks\\n✅ Integrated DVC & MLflow pipelines for continuous LLM fine-tuning on historical ticket/log data\\n✅ Built AI-powered assistant for core network operations using LangChain + OpenAI\\n✅ Designed E2E CI/CD pipelines and deployed AI-enhanced 5G CNFs on multi-node Kubernetes clusters\\n✅ Led intelligent testing frameworks with LLM-based trace analysis and documentation auto-generation\\n\\nPrevious Roles:\\n\\nDevOps Engineer at Mastec Quadgen: Led CNF automation, ML integration, and EKS scaling\\n\\nData Analyst at GTS: Built NLP-driven recommender systems and chatbots using Amazon Lex\\n\\nSr. Network Analyst at Ericsson: Developed predictive models for call drops and network optimizatio\\n\\n## LinkedIn Profile:\\n   \\n \\nAI-Driven Network Solutions Leader | Generative AI | Agentic AI | LLMOps | 5G Core & Cloud Architect | DevOps Strategist \\nOBJECTIVES \\nTechnology leader with over 15 years of experience across Telco, Generative AI, Agentic AI, and LLMOps ,Cloud, and AI domains. \\nProven expertise in 5G Core Network architecture, Cloud-native DevOps, AI/ML pipeline deployment, and operational excellence. \\nCurrently leading initiatives at the intersection of Generative AI, Agentic AI, and LLMOps to build intelligent, self-improving, and \\nresilient telecom infrastructures. Strong focus on transforming legacy systems with intelligent automation, language model deployment, \\nand agent-driven orchestration frameworks. \\nTeCHNICAL SKILls \\n  \\nCore Competencies : AI enthusiast with strong foundational knowledge in GenAI, RAG techniques, and MLOps workflows. \\nActively building personal projects leveraging LangChain, vector databases, and LLM APIs. Seeking opportunities to apply skills in \\nreal-world GenAI applications. \\n\\uf0b7 Generative AI & Agentic AI: LangChain, Prompt Engineering, OpenAI, HuggingFace, Retrieval-Augmented Generation \\n(RAG), Autonomous Agents (CrewAI, LangGraph,) \\n\\uf0b7 LLMOps & AI Deployment: MLflow, Weights & Biases, Ray, FastAPI, Docker, Kubernetes (EKS), Helm, CI/CD, MLOps \\npipelines \\n\\uf0b7 Telco Networks & Cloud Platforms: 3G/4G/5G | Core (UPF, SMF, AMF, etc.) | CNF | RAN | ORAN | vRAN | AWS \\n\\uf0b7 Automation & Scripting: Python (NLP, ML, FastAPI) | YAML | Terraform | GitHub Actions | Jenkins \\n\\uf0b7 AI Frameworks: PyTorch, TensorFlow, Scikit-learn, NLTK, Transformers, spaCy, LangChain \\n\\uf0b7 Data Analytics & Visualization: Power BI | Tableau | Pandas | Matplotlib | Actix | TEMS \\n \\nTech & Tools \\n  \\n\\uf0b7 3G |4G| LTE | VoLTE | RAN |ORAN |VRAN \\n \\n\\uf0b7 Cloud Service Provider  : AWS, Amazon Bedrock Vertex AI \\n \\n\\uf0b7 Container Tools  : Docker  Kubernetes \\n \\n\\uf0b7 Scripting : Python , YAML \\n \\n\\uf0b7 Automation Tools : Terraform \\n \\n\\uf0b7 Data Visualization and Reporting : Tableau .  \\n \\n\\uf0b7 Model Versioning : DVC , MLflow , Weights & Biases \\n \\n\\uf0b7 Telco Analysis Tools \\nTEMS Investigation | TEMS Visualization |TEMS Discovery | ACTIX Analyzer | Actix classic GNG Full Spotlight | \\nBusiness Object / \\n \\nEXPERIENCE \\n \\nQuadgen Wireless  Solution PVt LTD \\nRole: Technical Manager -5G Core \\nTenure:  JUN 2024 – PRESENT  \\n\\uf0b7 Spearheading the integration of Generative AI to dynamically configure and troubleshoot the 5G network using LLM-\\npowered agents. \\n\\uf0b7 DVC Integration: Leverage DVC to manage large-scale datasets (historical network logs, configuration data) used for \\ntraining generative models, ensuring versioning of data for reproducibility. \\n\\uf0b7 MLflow Integration: Implement MLflow for tracking training experiments, managing models, and automating model \\ndeployment for network configuration agents. \\n\\uf0b7 Leading the development of Agentic AI systems for real-time network monitoring and auto-resolution using LangChain \\nwith Retrieval-Augmented Generation (RAG) for intelligent decision-making. \\n\\uf0b7 DVC for Historical Data Versioning: Use DVC to version ticket data and network logs, which are continuously used \\nfor fine-tuning the LLMs. \\n\\uf0b7 MLflow for Model Monitoring: Utilize MLflow to track the model's performance (accuracy, response times, etc.) and \\nversioning of fine-tuned models. \\n \\n \\nMastec Quadgen Wireless  LLP \\nRole: DevOps Engineer (Lead) \\nTenure:  JAN 2022 – JUN 2024  \\n \\n\\uf0b7 Project prerequisite planning, designing, and implementing 5G Network infrastructure and deployment.  \\n\\uf0b7 Coordinate with the teams and stakeholders, manage resources, and address any issues that may  arise during \\ndeployment and R&D process.  \\n\\uf0b7 Deployed E2E CICD pipelines for 5G CNFs and AI services across multi-node EKS clusters. \\n\\uf0b7 Integrated ML models for anomaly detection into telecom dashboards. \\n\\uf0b7 Automated CNF deployment & infrastructure setup using Terraform, Helm, and Kubernetes. \\n\\uf0b7 Integrated telemetry systems with Prometheus and Grafana for real-time network and AI model       \\n\\uf0b7 Performance. \\n\\uf0b7 Deployment of 5G Core Network function on On-primes VM and Cloud. 5G Node Functions e.g.  \\n\\uf0b7 AUSF, UDM, PCF, SMF, AMF, UPF, NRF and UDR) \\n\\uf0b7 Wireshark trace and RLS di-sector configuration with core and RAN to Achieve and decode L3 Message \\n\\uf0b7 AI-Powered Network Assistant: Built with OpenAI APIs, LangChain, and internal network logs for proactive \\ntroubleshooting, root-cause analysis, and alert summarization. \\n\\uf0b7 Agentic AI for Telco Ops: Implemented task-driven agents for real-time decision-making, command execution on \\nnetwork elements, and ticket triage via vector embeddings. \\n\\uf0b7 LLMOps Pipelines: Managed lifecycle of fine-tuned transformer models for call drop prediction, using MLflow, \\nRayand FastAPI; deployed on EKS. \\n\\uf0b7 5G Core Intelligent Testing: Integrated agent workflows for test case generation, trace analysis (Wireshark + LLM), \\nand automatic documentation using GenAI. \\n\\uf0b7 Track the performance of AI models integrated into the 5G CNFs (e.g., anomaly detection models) via MLflow, \\nensuring consistent model performance across deployments. \\n\\uf0b7 Use DVC to manage the versions of configuration files and deployment artifacts related to 5G Core Network Functions \\n(CNFs). \\n\\uf0b7 Automate model deployment as part of the Kubernetes pipelines with MLflow to handle model versioning and \\ndeployment \\n \\nGeneral Technical Services  \\nRole: Data Analyst \\nTenure:  JUN 2018 - JULY 2020 \\nResponsibilities: \\uf0b7 Worked in Multifunctional environment to implement Analytics best practices with respect to experimental Data Analysis, \\nData Science, Data Reporting and Data Visualization \\n\\uf0b7 Created numerous simple to complex SQL Queries involving joins, correlated sub queries for \\ndiverse business requirement. \\n\\uf0b7 Prepared User Manual and Presentations  for the Costumer and Users  \\n\\uf0b7 Performed Supervised and Unsupervisie Machine Learning Techniques \\n\\uf0b7 Created Tableau scorecards, dashboards using stack bars, bar graphs, scattered plots, Gantt charts using show me Functionality \\n\\uf0b7 Journal Recommendation system (built on NLP (natural language processing)   \\n\\uf0b7 Harmonized Code Recommendation system (built on NLP (natural language processing) \\n\\uf0b7 Build a Catboat with Amazon lex for Student support  (built on NLP (natural language processing) \\n \\n \\n \\nEricsson   \\n \\nRole: Senior Network Analyst \\nTenure: MAY 2016 - MAY 2018 \\nResponsibilities: \\n \\n\\uf0b7 Data Reporting and Data Visualization \\n\\uf0b7 Created Tableau scorecards, dashboards using stack bars, bar graphs, scattered plots, geographical maps, Gantt charts  \\n\\uf0b7 functionality \\n\\uf0b7 Designed customer Report dashboard using tableau to visualize the analysis \\n\\uf0b7 Involved in creating Dashboards, reports as needed using Tableau Desktop and Tableau Server. \\n\\uf0b7 Created customize share interactive web dashboards with simple drag drop. \\n\\uf0b7 Developed Graph and Reports and presentation for project report.    \\n\\uf0b7 Network Events Classification modeling using machine learning  \\n\\uf0b7 Prediction of Call Drops in 3G/GSM Network  \\n\\uf0b7 Individual site/cell parameter tuning recommendation model for call drop. \\n\\uf0b7 Cluster and county parameter tuning recommendation model for call drop. \\n\\uf0b7 Used UMTS, LTE use cases for ML model building. \\n\\uf0b7 Involved in requirement gathering and architecture design. \\n\\uf0b7 Building data cleansing pipeline to train a model.  \\n\\uf0b7 Developing statistical models for various predictive methods such as classification, clustering and regression. \\n\\uf0b7 Involved in parameter tuning process for optimal model hyper-parameters.  \\n\\uf0b7 Generate actionable insights from data and creating presentations and dashboards to make recommendations for improvement \\n\\uf0b7 Scripting using python language to develop the model for Data Pre - Processing and Data Transformation to analyses Network \\nPerformance \\n\\uf0b7 and Visualization \\n\\uf0b7 Logging and monitoring model performance. \\n \\n \\n \\nEricsson Global \\nRole:  Senior Network Engineer \\nTenure:  SEPT 2014 - MAY 2016 \\nResponsibilities: \\n \\n\\uf0b7 Analyzed existing network and application architectures, presenting findings on possible enhancements and improvements to \\nsenior decision-makers. \\n\\uf0b7 Established and monitored key performance metrics to verify consistent compliance with important networking standards. \\n\\uf0b7 Capacity management traffic dimension based on existing used cases analysis. \\n\\uf0b7 Monitored network capacity and performance, as well as diagnosed and resolved complex network problems. \\n\\uf0b7 Performed Tuning and optimization 1st, 2nd and 3rd carrier LTE systems for EE & 3UK,  \\n\\uf0b7 Analysis existing features and parameter and performed logical changes to improve coverage ,mobility ,accessibility , \\nretainability.  \\uf0b7 Doing Site Shake Down, Go No Go Lite Data & Voice Analysis and Report, Circuit Switch Fallback Analysis, IFHO Analysis,  \\n\\uf0b7 UE traces, Site parameters audits, request and verify physical and logical changes to improve coverage, mobility, accessibility, \\nretainability and time on LTE \\n \\n \\nQuadGen Wireless solution \\nRole: Senior RF Engineer \\nTenure:  FEB 2013 - SEPT 2014 \\nResponsibilities: \\n \\n\\uf0b7 Capacity & coverage data analysis and Visualization for clusters and county. \\n\\uf0b7 Responsible for Data  Pre- Processing and Data Transformation to analyse Network  Performance. \\n\\uf0b7 UMTS & LTE Drive Test Analysis, IRAT & IFHO Analysis, Coverage Analysis & recommendations.  \\n\\uf0b7 Event analysis and improve Accessibility, retainability & Mobility.  \\n\\uf0b7 Pilot pollution analysis, Improving RSCP/RSRP & EcNo/RSRQ by recommendations of parameters.  \\n\\uf0b7 Cluster analysis for LTE & UMTS and KPI Report generation. \\n\\uf0b7 Single Site and cluster KPI Analysis after Launch, KPI Report generation using the Quantum, WIPS Analysis for load shearing \\nand \\n\\uf0b7 PRACH performance using the SAP- BO. \\n\\uf0b7 ACTIX Spotlight/Analyzer/ GNG Cluster KPI reports to troubleshoot the issues for sites. \\n\\uf0b7 Identifying the minma in the Scree plot to analyze the clustering \\n\\uf0b7 Performing ANova test for the model. \\n\\uf0b7 Training the new hires with the current scope of work & process. \\n \\nSnachar  solution /GTL Ltd.  \\nRole: RF Engineer \\nTenure: SEPT 2009 - FEB 2013 \\nResponsibilities: \\n \\n\\uf0b7 Capacity & coverage data Visualization using Map-info, Actix Gio. \\n\\uf0b7 Cross functionality work with different teams. \\n\\uf0b7 Expertise in BO reports to analyze Hourly/Daily KPI’s  \\n\\uf0b7 Instant KPI monitoring using AMOS commands.  \\n\\uf0b7 Performing Special Event Monitoring. \\n\\uf0b7 Weekly meetings to discuss the project milestones. \\n\\uf0b7 Suggest solutions, resolve queries and provide recommendations to improve the quality of network. \\n\\uf0b7 Optimizing UTRAN parameters, Timers and Counters to improve Network performance. \\n\\uf0b7 Analysis of poor throughput of HSDPA/HSUPA and recommend necessary changes to improve the same. \\n\\uf0b7 optimization, Inter-RAT parameters, checking channel elements, and power congestion, and HSDPA Throughput \\n\\uf0b7 Analysis of drive test data (Layer 3 Messages), identify weak coverage/quality areas, call related issues (CS/PS setup time, \\nPilot pollution,interference Ec/No, missing neighbor , call drops, RAB Drops , RRC Setup Failure Issues , RAB \\nestablishment issues, IRAT Handover \\n \\n \\nACADEMICS \\nBachelor of Technology (B.E), RGPV, Bhopal,M.P., India: Specialization in Electronics & Communications. \\nMOOC’S \\n\\uf0b7 LangChain for Developers – LangChain (2024) \\n\\uf0b7 LLMOps & MLOps – DeepLearning.AI (2024) \\n\\uf0b7 Machine Learning & Deep Learning – UpX Academy \\n\\uf0b7 Ericsson Academy – RNO, Python & ML \\n\\uf0b7 iNeuron, Udemy – NLP, Web Scraping, AI Workflows  \\n\\nWith this context, please chat with the user, always staying in character as Pradeep Dhote.\""
      ]
     },
     "execution_count": 19,
     "metadata": {},
     "output_type": "execute_result"
    }
   ],
   "source": [
    "system_prompt"
   ]
  },
  {
   "cell_type": "code",
   "execution_count": 20,
   "metadata": {},
   "outputs": [],
   "source": [
    "def chat(message, history):\n",
    "    messages = [{\"role\": \"system\", \"content\": system_prompt}] + history + [{\"role\": \"user\", \"content\": message}]\n",
    "    response = openai.chat.completions.create(model=\"gpt-4o-mini\", messages=messages)\n",
    "    return response.choices[0].message.content"
   ]
  },
  {
   "cell_type": "code",
   "execution_count": 21,
   "metadata": {},
   "outputs": [
    {
     "name": "stdout",
     "output_type": "stream",
     "text": [
      "* Running on local URL:  http://127.0.0.1:7860\n",
      "* To create a public link, set `share=True` in `launch()`.\n"
     ]
    },
    {
     "data": {
      "text/html": [
       "<div><iframe src=\"http://127.0.0.1:7860/\" width=\"100%\" height=\"500\" allow=\"autoplay; camera; microphone; clipboard-read; clipboard-write;\" frameborder=\"0\" allowfullscreen></iframe></div>"
      ],
      "text/plain": [
       "<IPython.core.display.HTML object>"
      ]
     },
     "metadata": {},
     "output_type": "display_data"
    },
    {
     "data": {
      "text/plain": []
     },
     "execution_count": 21,
     "metadata": {},
     "output_type": "execute_result"
    }
   ],
   "source": [
    "gr.ChatInterface(chat, type=\"messages\").launch()"
   ]
  },
  {
   "cell_type": "markdown",
   "metadata": {},
   "source": [
    "## A lot is about to happen...\n",
    "\n",
    "1. Be able to ask an LLM to evaluate an answer\n",
    "2. Be able to rerun if the answer fails evaluation\n",
    "3. Put this together into 1 workflow\n",
    "\n",
    "All without any Agentic framework!"
   ]
  },
  {
   "cell_type": "code",
   "execution_count": 22,
   "metadata": {},
   "outputs": [],
   "source": [
    "# Create a Pydantic model for the Evaluation\n",
    "\n",
    "from pydantic import BaseModel\n",
    "\n",
    "class Evaluation(BaseModel):\n",
    "    is_acceptable: bool\n",
    "    feedback: str\n"
   ]
  },
  {
   "cell_type": "code",
   "execution_count": 23,
   "metadata": {},
   "outputs": [],
   "source": [
    "evaluator_system_prompt = f\"You are an evaluator that decides whether a response to a question is acceptable. \\\n",
    "You are provided with a conversation between a User and an Agent. Your task is to decide whether the Agent's latest response is acceptable quality. \\\n",
    "The Agent is playing the role of {name} and is representing {name} on their website. \\\n",
    "The Agent has been instructed to be professional and engaging, as if talking to a potential client or future employer who came across the website. \\\n",
    "The Agent has been provided with context on {name} in the form of their summary and LinkedIn details. Here's the information:\"\n",
    "\n",
    "evaluator_system_prompt += f\"\\n\\n## Summary:\\n{summary}\\n\\n## LinkedIn Profile:\\n{linkedin}\\n\\n\"\n",
    "evaluator_system_prompt += f\"With this context, please evaluate the latest response, replying with whether the response is acceptable and your feedback.\""
   ]
  },
  {
   "cell_type": "code",
   "execution_count": 24,
   "metadata": {},
   "outputs": [],
   "source": [
    "def evaluator_user_prompt(reply, message, history):\n",
    "    user_prompt = f\"Here's the conversation between the User and the Agent: \\n\\n{history}\\n\\n\"\n",
    "    user_prompt += f\"Here's the latest message from the User: \\n\\n{message}\\n\\n\"\n",
    "    user_prompt += f\"Here's the latest response from the Agent: \\n\\n{reply}\\n\\n\"\n",
    "    user_prompt += f\"Please evaluate the response, replying with whether it is acceptable and your feedback.\"\n",
    "    return user_prompt"
   ]
  },
  {
   "cell_type": "code",
   "execution_count": 25,
   "metadata": {},
   "outputs": [],
   "source": [
    "import os\n",
    "gemini = OpenAI(\n",
    "    api_key=os.getenv(\"GOOGLE_API_KEY\"), \n",
    "    base_url=\"https://generativelanguage.googleapis.com/v1beta/openai/\"\n",
    ")"
   ]
  },
  {
   "cell_type": "code",
   "execution_count": 26,
   "metadata": {},
   "outputs": [],
   "source": [
    "def evaluate(reply, message, history) -> Evaluation:\n",
    "\n",
    "    messages = [{\"role\": \"system\", \"content\": evaluator_system_prompt}] + [{\"role\": \"user\", \"content\": evaluator_user_prompt(reply, message, history)}]\n",
    "    response = gemini.beta.chat.completions.parse(model=\"gemini-2.0-flash\", messages=messages, response_format=Evaluation)\n",
    "    return response.choices[0].message.parsed"
   ]
  },
  {
   "cell_type": "code",
   "execution_count": 27,
   "metadata": {},
   "outputs": [],
   "source": [
    "messages = [{\"role\": \"system\", \"content\": system_prompt}] + [{\"role\": \"user\", \"content\": \"do you hold any certificate?\"}]\n",
    "response = openai.chat.completions.create(model=\"gpt-4o-mini\", messages=messages)\n",
    "reply = response.choices[0].message.content"
   ]
  },
  {
   "cell_type": "code",
   "execution_count": 28,
   "metadata": {},
   "outputs": [
    {
     "data": {
      "text/plain": [
       "\"Yes, I have pursued several certifications to enhance my skills and knowledge in my field. Some of the significant courses I've completed include:\\n\\n1. **LangChain for Developers** – LangChain (2024)\\n2. **LLMOps & MLOps** – DeepLearning.AI (2024)\\n3. **Machine Learning & Deep Learning** – UpX Academy\\n4. **Ericsson Academy** – RNO, Python & ML\\n5. **iNeuron, Udemy** – NLP, Web Scraping, AI Workflows\\n\\nThese certifications reflect my commitment to staying current with the evolving technologies in Telecom, Cloud, and AI/ML.\""
      ]
     },
     "execution_count": 28,
     "metadata": {},
     "output_type": "execute_result"
    }
   ],
   "source": [
    "reply"
   ]
  },
  {
   "cell_type": "code",
   "execution_count": 29,
   "metadata": {},
   "outputs": [
    {
     "data": {
      "text/plain": [
       "Evaluation(is_acceptable=True, feedback='The response is good. It is accurate based on the context provided and is well formatted.')"
      ]
     },
     "execution_count": 29,
     "metadata": {},
     "output_type": "execute_result"
    }
   ],
   "source": [
    "evaluate(reply, \"do you hold any certificate?\", messages[:1])"
   ]
  },
  {
   "cell_type": "code",
   "execution_count": 30,
   "metadata": {},
   "outputs": [],
   "source": [
    "def rerun(reply, message, history, feedback):\n",
    "    updated_system_prompt = system_prompt + f\"\\n\\n## Previous answer rejected\\nYou just tried to reply, but the quality control rejected your reply\\n\"\n",
    "    updated_system_prompt += f\"## Your attempted answer:\\n{reply}\\n\\n\"\n",
    "    updated_system_prompt += f\"## Reason for rejection:\\n{feedback}\\n\\n\"\n",
    "    messages = [{\"role\": \"system\", \"content\": updated_system_prompt}] + history + [{\"role\": \"user\", \"content\": message}]\n",
    "    response = openai.chat.completions.create(model=\"gpt-4o-mini\", messages=messages)\n",
    "    return response.choices[0].message.content"
   ]
  },
  {
   "cell_type": "code",
   "execution_count": 33,
   "metadata": {},
   "outputs": [],
   "source": [
    "def chat(message, history):\n",
    "    if \"patent\" in message:\n",
    "        system = system_prompt + \"\\n\\nEverything in your reply needs to be in pig latin - \\\n",
    "              it is mandatory that you respond only and entirely in pig latin\"\n",
    "    else:\n",
    "        system = system_prompt\n",
    "    messages = [{\"role\": \"system\", \"content\": system}] + history + [{\"role\": \"user\", \"content\": message}]\n",
    "    response = openai.chat.completions.create(model=\"gpt-4o-mini\", messages=messages)\n",
    "    reply =response.choices[0].message.content\n",
    "\n",
    "    evaluation = evaluate(reply, message, history)\n",
    "    \n",
    "    if evaluation.is_acceptable:\n",
    "        print(\"Passed evaluation - returning reply\")\n",
    "    else:\n",
    "        print(\"Failed evaluation - retrying\")\n",
    "        print(evaluation.feedback)\n",
    "        reply = rerun(reply, message, history, evaluation.feedback)       \n",
    "    return reply"
   ]
  },
  {
   "cell_type": "code",
   "execution_count": 34,
   "metadata": {},
   "outputs": [
    {
     "name": "stdout",
     "output_type": "stream",
     "text": [
      "* Running on local URL:  http://127.0.0.1:7862\n",
      "* To create a public link, set `share=True` in `launch()`.\n"
     ]
    },
    {
     "data": {
      "text/html": [
       "<div><iframe src=\"http://127.0.0.1:7862/\" width=\"100%\" height=\"500\" allow=\"autoplay; camera; microphone; clipboard-read; clipboard-write;\" frameborder=\"0\" allowfullscreen></iframe></div>"
      ],
      "text/plain": [
       "<IPython.core.display.HTML object>"
      ]
     },
     "metadata": {},
     "output_type": "display_data"
    },
    {
     "data": {
      "text/plain": []
     },
     "execution_count": 34,
     "metadata": {},
     "output_type": "execute_result"
    },
    {
     "name": "stdout",
     "output_type": "stream",
     "text": [
      "Passed evaluation - returning reply\n",
      "Failed evaluation - retrying\n",
      "The agent seems to be responding in a coded language. It is not helpful and makes no sense.\n",
      "Passed evaluation - returning reply\n"
     ]
    }
   ],
   "source": [
    "gr.ChatInterface(chat, type=\"messages\").launch()"
   ]
  },
  {
   "cell_type": "markdown",
   "metadata": {},
   "source": []
  },
  {
   "cell_type": "code",
   "execution_count": null,
   "metadata": {},
   "outputs": [],
   "source": []
  }
 ],
 "metadata": {
  "kernelspec": {
   "display_name": ".venv",
   "language": "python",
   "name": "python3"
  },
  "language_info": {
   "codemirror_mode": {
    "name": "ipython",
    "version": 3
   },
   "file_extension": ".py",
   "mimetype": "text/x-python",
   "name": "python",
   "nbconvert_exporter": "python",
   "pygments_lexer": "ipython3",
   "version": "3.12.4"
  }
 },
 "nbformat": 4,
 "nbformat_minor": 2
}
